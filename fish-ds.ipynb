{
 "cells": [
  {
   "cell_type": "markdown",
   "id": "9edfea71",
   "metadata": {
    "papermill": {
     "duration": 0.008413,
     "end_time": "2024-10-24T16:27:03.525165",
     "exception": false,
     "start_time": "2024-10-24T16:27:03.516752",
     "status": "completed"
    },
    "tags": []
   },
   "source": [
    "# 1 Kütüphanelerin Yüklenmesi\n",
    "numpy ve pandas: Veri işleme ve düzenleme kütüphaneleri.\n",
    "\n",
    "matplotlib.pyplot: Grafik çizme için kullanılır.\n",
    "\n",
    "os: Dosya işlemleri için (veri yolları, dosya adları vb.).\n",
    "\n",
    "cv2: OpenCV kütüphanesi, görüntü işleme için kullanılır.\n",
    "\n",
    "sklearn: Makine öğrenmesi için kullanılan çeşitli araçları içerir (veri bölme, metrik hesaplama vb.).\n",
    "\n",
    "tensorflow.keras: Derin öğrenme modelleri oluşturmak için kullanılır.\n",
    "\n",
    "ImageDataGenerator: Görüntü verilerini artırma işlemleri için.\n"
   ]
  },
  {
   "cell_type": "code",
   "execution_count": 1,
   "id": "afc86006",
   "metadata": {
    "execution": {
     "iopub.execute_input": "2024-10-24T16:27:03.539691Z",
     "iopub.status.busy": "2024-10-24T16:27:03.539257Z",
     "iopub.status.idle": "2024-10-24T16:27:21.207722Z",
     "shell.execute_reply": "2024-10-24T16:27:21.206782Z"
    },
    "papermill": {
     "duration": 17.679117,
     "end_time": "2024-10-24T16:27:21.210562",
     "exception": false,
     "start_time": "2024-10-24T16:27:03.531445",
     "status": "completed"
    },
    "tags": []
   },
   "outputs": [],
   "source": [
    "import numpy as np\n",
    "import pandas as pd\n",
    "import matplotlib.pyplot as plt\n",
    "import os\n",
    "import cv2\n",
    "from sklearn.model_selection import train_test_split\n",
    "from tensorflow.keras.utils import to_categorical\n",
    "from tensorflow.keras.models import Sequential\n",
    "from tensorflow.keras.layers import Dense, Dropout, Flatten\n",
    "from tensorflow.keras.optimizers import SGD\n",
    "from sklearn.metrics import classification_report, confusion_matrix\n",
    "from tensorflow.keras.callbacks import EarlyStopping\n",
    "from tensorflow.keras.preprocessing.image import ImageDataGenerator"
   ]
  },
  {
   "cell_type": "markdown",
   "id": "e8776d00",
   "metadata": {
    "papermill": {
     "duration": 0.005745,
     "end_time": "2024-10-24T16:27:21.222518",
     "exception": false,
     "start_time": "2024-10-24T16:27:21.216773",
     "status": "completed"
    },
    "tags": []
   },
   "source": [
    "# 2 Verilerin Yüklenmesi ve Önişleme\n",
    "label: Görüntülerin hangi balık türüne ait olduğunu tutmak için kullanılan liste.\n",
    "\n",
    "path: Her bir görüntünün dosya yolunu saklayan liste.\n",
    "\n",
    "os.walk: Klasör içindeki tüm dosyaları dolaşarak dosya adlarını alır.\n",
    "\n",
    "os.path.splitext: Dosya uzantısını alır, burada .png olanlar seçiliyor.\n",
    "\n",
    "os.path.join: Dosya yolunu oluşturur.\n",
    "\n",
    "image_size: Görsellerin yeniden boyutlandırılacağı boyut (64x64 piksel).\n",
    "\n",
    "cv2.imread: Görüntü dosyasını okur.\n",
    "\n",
    "cv2.resize: Görüntüyü yeniden boyutlandırır.\n",
    "\n",
    "images ve labels: Tüm görüntüler ve etiketler bu listelere eklenir.\n",
    "\n",
    "images: Görüntüler 0-255 arasındaki değerlerden 0-1 arası değerlere normalleştirilir.\n",
    "\n",
    "labels: Etiketler, one-hot encoding yöntemi ile kategorik hale getirilir.\n"
   ]
  },
  {
   "cell_type": "code",
   "execution_count": 2,
   "id": "3949591a",
   "metadata": {
    "execution": {
     "iopub.execute_input": "2024-10-24T16:27:21.236434Z",
     "iopub.status.busy": "2024-10-24T16:27:21.235674Z",
     "iopub.status.idle": "2024-10-24T16:30:28.412400Z",
     "shell.execute_reply": "2024-10-24T16:30:28.411283Z"
    },
    "papermill": {
     "duration": 187.186935,
     "end_time": "2024-10-24T16:30:28.415281",
     "exception": false,
     "start_time": "2024-10-24T16:27:21.228346",
     "status": "completed"
    },
    "tags": []
   },
   "outputs": [],
   "source": [
    "# Etiketler ve dosya yolları için boş listeler oluşturuluyor.\n",
    "label = []\n",
    "path = []\n",
    "\n",
    "# Balık verisinin olduğu dizin yolunu belirtiyoruz.\n",
    "fish_dir = '/kaggle/input/a-large-scale-fish-dataset/Fish_Dataset/Fish_Dataset'\n",
    "\n",
    "# os.walk() fonksiyonu ile belirtilen dizindeki tüm klasörleri ve dosyaları tarıyoruz.\n",
    "for dir_name, _, filenames in os.walk(fish_dir):\n",
    "    for filename in filenames:\n",
    "        # Sadece PNG formatındaki görüntüleri işliyoruz.\n",
    "        if os.path.splitext(filename)[-1] == '.png':\n",
    "            if dir_name.split()[-1] != 'GT':\n",
    "                label.append(os.path.split(dir_name)[-1])\n",
    "                path.append(os.path.join(dir_name, filename))\n",
    "\n",
    "# Etiketler ve yollar pandas DataFrame'e dönüştürülüyor.\n",
    "data = pd.DataFrame({'path': path, 'label': label})\n",
    "\n",
    "# Görüntü boyutu belirleniyor (64x64)\n",
    "image_size = (64, 64)\n",
    "images = []  # Görüntülerin saklanacağı liste\n",
    "labels = []  # Etiketlerin saklanacağı liste\n",
    "\n",
    "# Her bir görüntü okunuyor, boyutlandırılıyor ve normalleştiriliyor\n",
    "for i in range(len(data)):\n",
    "    img = cv2.imread(data['path'][i])  # Görüntü dosyasını oku\n",
    "    img = cv2.resize(img, image_size)  # Görüntüyü 64x64 boyutuna yeniden boyutlandır\n",
    "    images.append(img)                 # Görüntüyü listeye ekle\n",
    "    labels.append(data['label'][i])    # İlgili etiketi ekle\n",
    "\n",
    "# Görüntüler numpy array'e dönüştürülüyor ve 255 ile bölünerek normalizasyon yapılıyor.\n",
    "images = np.array(images) / 255.0  # Normalizasyon: pixel değerleri 0-1 aralığına çekiliyor\n",
    "\n",
    "# Etiketler one-hot encoding ile sayısal değerlere çevriliyor.\n",
    "labels = pd.get_dummies(labels).values  # One-hot encoding ile kategorik veriyi sayısal formata çevir"
   ]
  },
  {
   "cell_type": "markdown",
   "id": "06d79cc6",
   "metadata": {
    "papermill": {
     "duration": 0.00585,
     "end_time": "2024-10-24T16:30:28.427570",
     "exception": false,
     "start_time": "2024-10-24T16:30:28.421720",
     "status": "completed"
    },
    "tags": []
   },
   "source": [
    "# 3 Veri Setinin Train-Test Bölünmesi\n",
    "train_test_split: Veri setini %80 eğitim, %20 doğrulama seti olarak böler.\n",
    "\n",
    "random_state=42: Aynı sonuçları almak için sabit bir rastgelelik sağlar.\n"
   ]
  },
  {
   "cell_type": "code",
   "execution_count": 3,
   "id": "64f54a05",
   "metadata": {
    "execution": {
     "iopub.execute_input": "2024-10-24T16:30:28.441412Z",
     "iopub.status.busy": "2024-10-24T16:30:28.441015Z",
     "iopub.status.idle": "2024-10-24T16:30:28.817299Z",
     "shell.execute_reply": "2024-10-24T16:30:28.816289Z"
    },
    "papermill": {
     "duration": 0.38657,
     "end_time": "2024-10-24T16:30:28.820142",
     "exception": false,
     "start_time": "2024-10-24T16:30:28.433572",
     "status": "completed"
    },
    "tags": []
   },
   "outputs": [],
   "source": [
    "# Veri setini eğitim (%80) ve doğrulama (%20) olmak üzere ikiye ayırıyoruz.\n",
    "train_images, val_images, train_labels, val_labels = train_test_split(\n",
    "    images, labels, test_size=0.2, random_state=42)  # Rastgele bölme yapılıyor"
   ]
  },
  {
   "cell_type": "markdown",
   "id": "d1192d5c",
   "metadata": {
    "papermill": {
     "duration": 0.005693,
     "end_time": "2024-10-24T16:30:28.832080",
     "exception": false,
     "start_time": "2024-10-24T16:30:28.826387",
     "status": "completed"
    },
    "tags": []
   },
   "source": [
    "# 4 Veri Artırma\n",
    "ImageDataGenerator: Görüntü verilerini artırmak için kullanılır. Örneğin, görüntüleri döndürme, kaydırma, ölçeklendirme gibi işlemlerle veri setini genişletir.\n"
   ]
  },
  {
   "cell_type": "code",
   "execution_count": 4,
   "id": "d58019ce",
   "metadata": {
    "execution": {
     "iopub.execute_input": "2024-10-24T16:30:28.845738Z",
     "iopub.status.busy": "2024-10-24T16:30:28.845305Z",
     "iopub.status.idle": "2024-10-24T16:30:28.851933Z",
     "shell.execute_reply": "2024-10-24T16:30:28.850722Z"
    },
    "papermill": {
     "duration": 0.016446,
     "end_time": "2024-10-24T16:30:28.854427",
     "exception": false,
     "start_time": "2024-10-24T16:30:28.837981",
     "status": "completed"
    },
    "tags": []
   },
   "outputs": [],
   "source": [
    "# ImageDataGenerator ile veri setini artırma işlemi. Görüntülere çeşitli dönüşümler uygulanarak\n",
    "# daha çeşitli bir eğitim seti elde ediliyor. Bu, modelin genelleme yeteneğini artırır.\n",
    "datagen = ImageDataGenerator(\n",
    "    rotation_range=20,         # Görüntülerin rastgele 40 dereceye kadar döndürülmesi\n",
    "    width_shift_range=0.1,     # Genişlik kaydırma oranı %30\n",
    "    height_shift_range=0.1,    # Yükseklik kaydırma oranı %30\n",
    "    shear_range=0.1,           # Kesme açısı\n",
    "    zoom_range=0.1,            # Rastgele zoom uygulaması\n",
    "    horizontal_flip=True,      # Yatayda çevrilme\n",
    "    fill_mode='nearest'        # Kenarların doldurulması için kullanılan yöntem\n",
    ")\n"
   ]
  },
  {
   "cell_type": "markdown",
   "id": "30e85955",
   "metadata": {
    "papermill": {
     "duration": 0.005782,
     "end_time": "2024-10-24T16:30:28.867367",
     "exception": false,
     "start_time": "2024-10-24T16:30:28.861585",
     "status": "completed"
    },
    "tags": []
   },
   "source": [
    "# 5 Modelin Yapılandırılması\n",
    "Sequential: Katmanlar sırayla eklenir.\n",
    "\n",
    "Flatten: 64x64 piksel ve 3 kanallı (RGB) görüntüyü düzleştirir.\n",
    "\n",
    "Dense: Tam bağlı katmanlar, her nöron bir sonraki katmandaki tüm nöronlarla bağlantılıdır\n",
    "\n",
    "Dropout: Aşırı öğrenmeyi önlemek için bazı nöronları rastgele devre dışı bırakır.\n",
    "\n",
    "activation='relu': ReLU aktivasyon fonksiyonu.\n",
    "\n",
    "activation='softmax': Sınıflandırma için kullanılan fonksiyon, 9 sınıf var.\n",
    "\n",
    "SGD: Stokastik gradyan inişi algoritması, optimizasyon için kullanılır.\n",
    "\n",
    "categorical_crossentropy: Çok sınıflı sınıflandırmada kullanılan kayıp fonksiyonu.\n"
   ]
  },
  {
   "cell_type": "code",
   "execution_count": 5,
   "id": "d94fff3d",
   "metadata": {
    "execution": {
     "iopub.execute_input": "2024-10-24T16:30:28.881201Z",
     "iopub.status.busy": "2024-10-24T16:30:28.880591Z",
     "iopub.status.idle": "2024-10-24T16:30:29.031383Z",
     "shell.execute_reply": "2024-10-24T16:30:29.030305Z"
    },
    "papermill": {
     "duration": 0.160853,
     "end_time": "2024-10-24T16:30:29.034124",
     "exception": false,
     "start_time": "2024-10-24T16:30:28.873271",
     "status": "completed"
    },
    "tags": []
   },
   "outputs": [
    {
     "name": "stderr",
     "output_type": "stream",
     "text": [
      "/opt/conda/lib/python3.10/site-packages/keras/src/layers/reshaping/flatten.py:37: UserWarning: Do not pass an `input_shape`/`input_dim` argument to a layer. When using Sequential models, prefer using an `Input(shape)` object as the first layer in the model instead.\n",
      "  super().__init__(**kwargs)\n"
     ]
    }
   ],
   "source": [
    "# Sequential model tanımlanıyor. Bu, katmanların üst üste eklenmesi anlamına gelir.\n",
    "model = Sequential()\n",
    "\n",
    "# İlk katman: Görüntülerin 64x64x3 şeklindeki piksel verisi düzleştiriliyor.\n",
    "model.add(Flatten(input_shape=(64, 64, 3)))\n",
    "\n",
    "# İkinci katman: 256 nöronlu, relu aktivasyon fonksiyonu ile çalışan tam bağlantılı katman.\n",
    "model.add(Dense(256, activation='relu'))\n",
    "\n",
    "# Dropout: %50 oranında nöronların rastgele kapatılması (overfitting'i engellemek için).\n",
    "model.add(Dropout(0.5))\n",
    "\n",
    "# Üçüncü katman: 128 nöronlu, relu aktivasyon fonksiyonlu tam bağlantılı katman.\n",
    "model.add(Dense(128, activation='relu'))\n",
    "model.add(Dropout(0.5))\n",
    "\n",
    "# Çıkış katmanı: 9 sınıfa ayrılan yumuşakmax aktivasyon fonksiyonu kullanılıyor.\n",
    "model.add(Dense(9, activation='softmax'))  # 9 sınıfa (9 balık türü) göre karar veren bir çıkış katmanı ekliyoruz.\n",
    "\n",
    "# Modelin derlenmesi\n",
    "# SGD (Stochastic Gradient Descent) optimizasyonu ve kategorik çapraz entropi kaybı kullanılıyor.\n",
    "optimizer = SGD(learning_rate=0.01)   # Öğrenme oranı 0.01 olarak belirlenmiş\n",
    "model.compile(optimizer=optimizer, loss='categorical_crossentropy', metrics=['accuracy'])"
   ]
  },
  {
   "cell_type": "markdown",
   "id": "096cb2dd",
   "metadata": {
    "papermill": {
     "duration": 0.005936,
     "end_time": "2024-10-24T16:30:29.046495",
     "exception": false,
     "start_time": "2024-10-24T16:30:29.040559",
     "status": "completed"
    },
    "tags": []
   },
   "source": [
    "# 6 Modelin Eğitilmesi\n",
    "\n",
    "EarlyStopping: Eğitim sırasında model doğrulama kaybı iyileşmiyorsa eğitimi durdurur.\n",
    "\n",
    "datagen.fit(): Verileri artırmadan önce eğitim görüntülerine bu işlemler uygulanır.\n",
    "\n",
    "model.fit: Modeli eğitmek için kullanılır, epochs=30 model 30 kez eğitilecek.\n"
   ]
  },
  {
   "cell_type": "code",
   "execution_count": 6,
   "id": "18593a2b",
   "metadata": {
    "execution": {
     "iopub.execute_input": "2024-10-24T16:30:29.060662Z",
     "iopub.status.busy": "2024-10-24T16:30:29.059899Z",
     "iopub.status.idle": "2024-10-24T16:41:54.167443Z",
     "shell.execute_reply": "2024-10-24T16:41:54.166165Z"
    },
    "papermill": {
     "duration": 685.117975,
     "end_time": "2024-10-24T16:41:54.170385",
     "exception": false,
     "start_time": "2024-10-24T16:30:29.052410",
     "status": "completed"
    },
    "tags": []
   },
   "outputs": [
    {
     "name": "stdout",
     "output_type": "stream",
     "text": [
      "Epoch 1/50\n"
     ]
    },
    {
     "name": "stderr",
     "output_type": "stream",
     "text": [
      "/opt/conda/lib/python3.10/site-packages/keras/src/trainers/data_adapters/py_dataset_adapter.py:121: UserWarning: Your `PyDataset` class should call `super().__init__(**kwargs)` in its constructor. `**kwargs` can include `workers`, `use_multiprocessing`, `max_queue_size`. Do not pass these arguments to `fit()`, as they will be ignored.\n",
      "  self._warn_if_super_not_called()\n"
     ]
    },
    {
     "name": "stdout",
     "output_type": "stream",
     "text": [
      "\u001b[1m113/113\u001b[0m \u001b[32m━━━━━━━━━━━━━━━━━━━━\u001b[0m\u001b[37m\u001b[0m \u001b[1m13s\u001b[0m 98ms/step - accuracy: 0.1229 - loss: 2.2524 - val_accuracy: 0.2233 - val_loss: 2.1263\n",
      "Epoch 2/50\n",
      "\u001b[1m113/113\u001b[0m \u001b[32m━━━━━━━━━━━━━━━━━━━━\u001b[0m\u001b[37m\u001b[0m \u001b[1m12s\u001b[0m 97ms/step - accuracy: 0.1709 - loss: 2.1557 - val_accuracy: 0.2894 - val_loss: 2.0336\n",
      "Epoch 3/50\n",
      "\u001b[1m113/113\u001b[0m \u001b[32m━━━━━━━━━━━━━━━━━━━━\u001b[0m\u001b[37m\u001b[0m \u001b[1m11s\u001b[0m 96ms/step - accuracy: 0.1905 - loss: 2.1058 - val_accuracy: 0.3967 - val_loss: 1.9011\n",
      "Epoch 4/50\n",
      "\u001b[1m113/113\u001b[0m \u001b[32m━━━━━━━━━━━━━━━━━━━━\u001b[0m\u001b[37m\u001b[0m \u001b[1m21s\u001b[0m 96ms/step - accuracy: 0.2344 - loss: 2.0252 - val_accuracy: 0.4239 - val_loss: 1.8471\n",
      "Epoch 5/50\n",
      "\u001b[1m113/113\u001b[0m \u001b[32m━━━━━━━━━━━━━━━━━━━━\u001b[0m\u001b[37m\u001b[0m \u001b[1m20s\u001b[0m 95ms/step - accuracy: 0.2675 - loss: 1.9708 - val_accuracy: 0.4322 - val_loss: 1.7487\n",
      "Epoch 6/50\n",
      "\u001b[1m113/113\u001b[0m \u001b[32m━━━━━━━━━━━━━━━━━━━━\u001b[0m\u001b[37m\u001b[0m \u001b[1m21s\u001b[0m 97ms/step - accuracy: 0.2811 - loss: 1.9158 - val_accuracy: 0.4350 - val_loss: 1.7031\n",
      "Epoch 7/50\n",
      "\u001b[1m113/113\u001b[0m \u001b[32m━━━━━━━━━━━━━━━━━━━━\u001b[0m\u001b[37m\u001b[0m \u001b[1m21s\u001b[0m 98ms/step - accuracy: 0.2981 - loss: 1.8891 - val_accuracy: 0.4678 - val_loss: 1.6589\n",
      "Epoch 8/50\n",
      "\u001b[1m113/113\u001b[0m \u001b[32m━━━━━━━━━━━━━━━━━━━━\u001b[0m\u001b[37m\u001b[0m \u001b[1m12s\u001b[0m 96ms/step - accuracy: 0.3060 - loss: 1.8484 - val_accuracy: 0.4872 - val_loss: 1.5898\n",
      "Epoch 9/50\n",
      "\u001b[1m113/113\u001b[0m \u001b[32m━━━━━━━━━━━━━━━━━━━━\u001b[0m\u001b[37m\u001b[0m \u001b[1m12s\u001b[0m 96ms/step - accuracy: 0.3067 - loss: 1.8431 - val_accuracy: 0.4678 - val_loss: 1.6062\n",
      "Epoch 10/50\n",
      "\u001b[1m113/113\u001b[0m \u001b[32m━━━━━━━━━━━━━━━━━━━━\u001b[0m\u001b[37m\u001b[0m \u001b[1m12s\u001b[0m 97ms/step - accuracy: 0.3301 - loss: 1.8057 - val_accuracy: 0.4750 - val_loss: 1.5490\n",
      "Epoch 11/50\n",
      "\u001b[1m113/113\u001b[0m \u001b[32m━━━━━━━━━━━━━━━━━━━━\u001b[0m\u001b[37m\u001b[0m \u001b[1m11s\u001b[0m 96ms/step - accuracy: 0.3252 - loss: 1.7974 - val_accuracy: 0.4644 - val_loss: 1.5537\n",
      "Epoch 12/50\n",
      "\u001b[1m113/113\u001b[0m \u001b[32m━━━━━━━━━━━━━━━━━━━━\u001b[0m\u001b[37m\u001b[0m \u001b[1m11s\u001b[0m 96ms/step - accuracy: 0.3097 - loss: 1.7945 - val_accuracy: 0.4733 - val_loss: 1.5309\n",
      "Epoch 13/50\n",
      "\u001b[1m113/113\u001b[0m \u001b[32m━━━━━━━━━━━━━━━━━━━━\u001b[0m\u001b[37m\u001b[0m \u001b[1m12s\u001b[0m 97ms/step - accuracy: 0.3346 - loss: 1.7487 - val_accuracy: 0.5139 - val_loss: 1.4989\n",
      "Epoch 14/50\n",
      "\u001b[1m113/113\u001b[0m \u001b[32m━━━━━━━━━━━━━━━━━━━━\u001b[0m\u001b[37m\u001b[0m \u001b[1m20s\u001b[0m 95ms/step - accuracy: 0.3507 - loss: 1.7361 - val_accuracy: 0.4844 - val_loss: 1.4813\n",
      "Epoch 15/50\n",
      "\u001b[1m113/113\u001b[0m \u001b[32m━━━━━━━━━━━━━━━━━━━━\u001b[0m\u001b[37m\u001b[0m \u001b[1m12s\u001b[0m 97ms/step - accuracy: 0.3456 - loss: 1.7194 - val_accuracy: 0.5000 - val_loss: 1.4937\n",
      "Epoch 16/50\n",
      "\u001b[1m113/113\u001b[0m \u001b[32m━━━━━━━━━━━━━━━━━━━━\u001b[0m\u001b[37m\u001b[0m \u001b[1m11s\u001b[0m 96ms/step - accuracy: 0.3590 - loss: 1.7093 - val_accuracy: 0.5050 - val_loss: 1.4376\n",
      "Epoch 17/50\n",
      "\u001b[1m113/113\u001b[0m \u001b[32m━━━━━━━━━━━━━━━━━━━━\u001b[0m\u001b[37m\u001b[0m \u001b[1m11s\u001b[0m 95ms/step - accuracy: 0.3518 - loss: 1.7120 - val_accuracy: 0.5294 - val_loss: 1.4421\n",
      "Epoch 18/50\n",
      "\u001b[1m113/113\u001b[0m \u001b[32m━━━━━━━━━━━━━━━━━━━━\u001b[0m\u001b[37m\u001b[0m \u001b[1m12s\u001b[0m 97ms/step - accuracy: 0.3582 - loss: 1.7083 - val_accuracy: 0.5117 - val_loss: 1.4288\n",
      "Epoch 19/50\n",
      "\u001b[1m113/113\u001b[0m \u001b[32m━━━━━━━━━━━━━━━━━━━━\u001b[0m\u001b[37m\u001b[0m \u001b[1m20s\u001b[0m 96ms/step - accuracy: 0.3869 - loss: 1.6691 - val_accuracy: 0.5011 - val_loss: 1.4066\n",
      "Epoch 20/50\n",
      "\u001b[1m113/113\u001b[0m \u001b[32m━━━━━━━━━━━━━━━━━━━━\u001b[0m\u001b[37m\u001b[0m \u001b[1m12s\u001b[0m 98ms/step - accuracy: 0.3739 - loss: 1.6550 - val_accuracy: 0.5439 - val_loss: 1.3949\n",
      "Epoch 21/50\n",
      "\u001b[1m113/113\u001b[0m \u001b[32m━━━━━━━━━━━━━━━━━━━━\u001b[0m\u001b[37m\u001b[0m \u001b[1m11s\u001b[0m 96ms/step - accuracy: 0.3843 - loss: 1.6478 - val_accuracy: 0.5339 - val_loss: 1.3750\n",
      "Epoch 22/50\n",
      "\u001b[1m113/113\u001b[0m \u001b[32m━━━━━━━━━━━━━━━━━━━━\u001b[0m\u001b[37m\u001b[0m \u001b[1m11s\u001b[0m 96ms/step - accuracy: 0.3738 - loss: 1.6514 - val_accuracy: 0.5211 - val_loss: 1.3769\n",
      "Epoch 23/50\n",
      "\u001b[1m113/113\u001b[0m \u001b[32m━━━━━━━━━━━━━━━━━━━━\u001b[0m\u001b[37m\u001b[0m \u001b[1m12s\u001b[0m 98ms/step - accuracy: 0.3806 - loss: 1.6435 - val_accuracy: 0.5500 - val_loss: 1.3432\n",
      "Epoch 24/50\n",
      "\u001b[1m113/113\u001b[0m \u001b[32m━━━━━━━━━━━━━━━━━━━━\u001b[0m\u001b[37m\u001b[0m \u001b[1m20s\u001b[0m 97ms/step - accuracy: 0.3800 - loss: 1.6433 - val_accuracy: 0.5506 - val_loss: 1.3232\n",
      "Epoch 25/50\n",
      "\u001b[1m113/113\u001b[0m \u001b[32m━━━━━━━━━━━━━━━━━━━━\u001b[0m\u001b[37m\u001b[0m \u001b[1m12s\u001b[0m 97ms/step - accuracy: 0.3913 - loss: 1.6112 - val_accuracy: 0.5728 - val_loss: 1.3227\n",
      "Epoch 26/50\n",
      "\u001b[1m113/113\u001b[0m \u001b[32m━━━━━━━━━━━━━━━━━━━━\u001b[0m\u001b[37m\u001b[0m \u001b[1m11s\u001b[0m 95ms/step - accuracy: 0.3973 - loss: 1.6069 - val_accuracy: 0.5928 - val_loss: 1.2945\n",
      "Epoch 27/50\n",
      "\u001b[1m113/113\u001b[0m \u001b[32m━━━━━━━━━━━━━━━━━━━━\u001b[0m\u001b[37m\u001b[0m \u001b[1m21s\u001b[0m 99ms/step - accuracy: 0.4036 - loss: 1.5907 - val_accuracy: 0.5722 - val_loss: 1.2869\n",
      "Epoch 28/50\n",
      "\u001b[1m113/113\u001b[0m \u001b[32m━━━━━━━━━━━━━━━━━━━━\u001b[0m\u001b[37m\u001b[0m \u001b[1m11s\u001b[0m 96ms/step - accuracy: 0.4141 - loss: 1.5681 - val_accuracy: 0.5683 - val_loss: 1.2973\n",
      "Epoch 29/50\n",
      "\u001b[1m113/113\u001b[0m \u001b[32m━━━━━━━━━━━━━━━━━━━━\u001b[0m\u001b[37m\u001b[0m \u001b[1m12s\u001b[0m 97ms/step - accuracy: 0.4103 - loss: 1.5733 - val_accuracy: 0.5683 - val_loss: 1.2690\n",
      "Epoch 30/50\n",
      "\u001b[1m113/113\u001b[0m \u001b[32m━━━━━━━━━━━━━━━━━━━━\u001b[0m\u001b[37m\u001b[0m \u001b[1m11s\u001b[0m 95ms/step - accuracy: 0.4138 - loss: 1.5551 - val_accuracy: 0.5789 - val_loss: 1.2647\n",
      "Epoch 31/50\n",
      "\u001b[1m113/113\u001b[0m \u001b[32m━━━━━━━━━━━━━━━━━━━━\u001b[0m\u001b[37m\u001b[0m \u001b[1m11s\u001b[0m 96ms/step - accuracy: 0.4193 - loss: 1.5598 - val_accuracy: 0.5894 - val_loss: 1.2567\n",
      "Epoch 32/50\n",
      "\u001b[1m113/113\u001b[0m \u001b[32m━━━━━━━━━━━━━━━━━━━━\u001b[0m\u001b[37m\u001b[0m \u001b[1m12s\u001b[0m 97ms/step - accuracy: 0.4247 - loss: 1.5550 - val_accuracy: 0.6061 - val_loss: 1.2283\n",
      "Epoch 33/50\n",
      "\u001b[1m113/113\u001b[0m \u001b[32m━━━━━━━━━━━━━━━━━━━━\u001b[0m\u001b[37m\u001b[0m \u001b[1m11s\u001b[0m 95ms/step - accuracy: 0.4172 - loss: 1.5427 - val_accuracy: 0.6178 - val_loss: 1.2746\n",
      "Epoch 34/50\n",
      "\u001b[1m113/113\u001b[0m \u001b[32m━━━━━━━━━━━━━━━━━━━━\u001b[0m\u001b[37m\u001b[0m \u001b[1m11s\u001b[0m 95ms/step - accuracy: 0.4273 - loss: 1.5409 - val_accuracy: 0.5944 - val_loss: 1.2434\n",
      "Epoch 35/50\n",
      "\u001b[1m113/113\u001b[0m \u001b[32m━━━━━━━━━━━━━━━━━━━━\u001b[0m\u001b[37m\u001b[0m \u001b[1m12s\u001b[0m 96ms/step - accuracy: 0.4317 - loss: 1.5488 - val_accuracy: 0.5856 - val_loss: 1.2140\n",
      "Epoch 36/50\n",
      "\u001b[1m113/113\u001b[0m \u001b[32m━━━━━━━━━━━━━━━━━━━━\u001b[0m\u001b[37m\u001b[0m \u001b[1m20s\u001b[0m 95ms/step - accuracy: 0.4284 - loss: 1.5418 - val_accuracy: 0.6156 - val_loss: 1.1933\n",
      "Epoch 37/50\n",
      "\u001b[1m113/113\u001b[0m \u001b[32m━━━━━━━━━━━━━━━━━━━━\u001b[0m\u001b[37m\u001b[0m \u001b[1m11s\u001b[0m 96ms/step - accuracy: 0.4417 - loss: 1.5259 - val_accuracy: 0.6356 - val_loss: 1.2017\n",
      "Epoch 38/50\n",
      "\u001b[1m113/113\u001b[0m \u001b[32m━━━━━━━━━━━━━━━━━━━━\u001b[0m\u001b[37m\u001b[0m \u001b[1m11s\u001b[0m 95ms/step - accuracy: 0.4493 - loss: 1.5065 - val_accuracy: 0.6117 - val_loss: 1.1910\n",
      "Epoch 39/50\n",
      "\u001b[1m113/113\u001b[0m \u001b[32m━━━━━━━━━━━━━━━━━━━━\u001b[0m\u001b[37m\u001b[0m \u001b[1m12s\u001b[0m 96ms/step - accuracy: 0.4338 - loss: 1.5018 - val_accuracy: 0.6300 - val_loss: 1.1929\n",
      "Epoch 40/50\n",
      "\u001b[1m113/113\u001b[0m \u001b[32m━━━━━━━━━━━━━━━━━━━━\u001b[0m\u001b[37m\u001b[0m \u001b[1m12s\u001b[0m 97ms/step - accuracy: 0.4551 - loss: 1.4876 - val_accuracy: 0.6322 - val_loss: 1.1766\n",
      "Epoch 41/50\n",
      "\u001b[1m113/113\u001b[0m \u001b[32m━━━━━━━━━━━━━━━━━━━━\u001b[0m\u001b[37m\u001b[0m \u001b[1m11s\u001b[0m 95ms/step - accuracy: 0.4632 - loss: 1.4762 - val_accuracy: 0.6239 - val_loss: 1.2199\n",
      "Epoch 42/50\n",
      "\u001b[1m113/113\u001b[0m \u001b[32m━━━━━━━━━━━━━━━━━━━━\u001b[0m\u001b[37m\u001b[0m \u001b[1m21s\u001b[0m 96ms/step - accuracy: 0.4598 - loss: 1.4598 - val_accuracy: 0.6544 - val_loss: 1.1466\n",
      "Epoch 43/50\n",
      "\u001b[1m113/113\u001b[0m \u001b[32m━━━━━━━━━━━━━━━━━━━━\u001b[0m\u001b[37m\u001b[0m \u001b[1m20s\u001b[0m 96ms/step - accuracy: 0.4585 - loss: 1.4820 - val_accuracy: 0.6044 - val_loss: 1.1918\n",
      "Epoch 44/50\n",
      "\u001b[1m113/113\u001b[0m \u001b[32m━━━━━━━━━━━━━━━━━━━━\u001b[0m\u001b[37m\u001b[0m \u001b[1m12s\u001b[0m 97ms/step - accuracy: 0.4642 - loss: 1.4501 - val_accuracy: 0.6383 - val_loss: 1.1415\n",
      "Epoch 45/50\n",
      "\u001b[1m113/113\u001b[0m \u001b[32m━━━━━━━━━━━━━━━━━━━━\u001b[0m\u001b[37m\u001b[0m \u001b[1m11s\u001b[0m 96ms/step - accuracy: 0.4633 - loss: 1.4590 - val_accuracy: 0.6428 - val_loss: 1.1208\n",
      "Epoch 46/50\n",
      "\u001b[1m113/113\u001b[0m \u001b[32m━━━━━━━━━━━━━━━━━━━━\u001b[0m\u001b[37m\u001b[0m \u001b[1m11s\u001b[0m 96ms/step - accuracy: 0.4627 - loss: 1.4668 - val_accuracy: 0.6378 - val_loss: 1.1078\n",
      "Epoch 47/50\n",
      "\u001b[1m113/113\u001b[0m \u001b[32m━━━━━━━━━━━━━━━━━━━━\u001b[0m\u001b[37m\u001b[0m \u001b[1m12s\u001b[0m 97ms/step - accuracy: 0.4691 - loss: 1.4542 - val_accuracy: 0.6394 - val_loss: 1.1198\n",
      "Epoch 48/50\n",
      "\u001b[1m113/113\u001b[0m \u001b[32m━━━━━━━━━━━━━━━━━━━━\u001b[0m\u001b[37m\u001b[0m \u001b[1m11s\u001b[0m 95ms/step - accuracy: 0.4671 - loss: 1.4577 - val_accuracy: 0.6594 - val_loss: 1.0984\n",
      "Epoch 49/50\n",
      "\u001b[1m113/113\u001b[0m \u001b[32m━━━━━━━━━━━━━━━━━━━━\u001b[0m\u001b[37m\u001b[0m \u001b[1m12s\u001b[0m 98ms/step - accuracy: 0.4640 - loss: 1.4446 - val_accuracy: 0.6622 - val_loss: 1.0884\n",
      "Epoch 50/50\n",
      "\u001b[1m113/113\u001b[0m \u001b[32m━━━━━━━━━━━━━━━━━━━━\u001b[0m\u001b[37m\u001b[0m \u001b[1m20s\u001b[0m 96ms/step - accuracy: 0.4702 - loss: 1.4420 - val_accuracy: 0.6544 - val_loss: 1.0823\n"
     ]
    }
   ],
   "source": [
    "# EarlyStopping: Eğer doğrulama kaybı 10 epoch boyunca iyileşmezse eğitim durdurulacak.\n",
    "early_stopping = EarlyStopping(monitor='val_loss', patience=10, restore_best_weights=True)\n",
    "\n",
    "# Modeli eğitmeden önce veri artırma işleminin eğitim verisine uygulanması.\n",
    "datagen.fit(train_images)\n",
    "\n",
    "# Modelin eğitilmesi. Data generator kullanarak veri seti artırılıyor ve her epoch'ta \n",
    "# modelin doğruluğu hesaplanıyor.\n",
    "history = model.fit(datagen.flow(train_images, train_labels, batch_size=64),\n",
    "                    epochs=50,  # Maksimum 30 epoch çalıştırılacak\n",
    "                    validation_data=(val_images, val_labels),  # Doğrulama seti\n",
    "                    callbacks=[early_stopping])  # Erken durdurma mekanizması\n"
   ]
  },
  {
   "cell_type": "markdown",
   "id": "d0ed9958",
   "metadata": {
    "papermill": {
     "duration": 0.53171,
     "end_time": "2024-10-24T16:41:55.297343",
     "exception": false,
     "start_time": "2024-10-24T16:41:54.765633",
     "status": "completed"
    },
    "tags": []
   },
   "source": [
    "# 7 Modelin Değerlendirilmesi\n",
    "model.evaluate: Modeli doğrulama seti üzerinde değerlendirir.\n",
    "\n",
    "Modelimiz öğrendikten sonra, ona test resimlerini verip ne kadar iyi öğrendiğini kontrol ediyoruz. Doğru cevapları ne kadar bildiğine bakıyoruz ve sonuçları çizerek gösteriyoruz.\n",
    "\n"
   ]
  },
  {
   "cell_type": "code",
   "execution_count": 7,
   "id": "d2a9d99b",
   "metadata": {
    "execution": {
     "iopub.execute_input": "2024-10-24T16:41:56.363316Z",
     "iopub.status.busy": "2024-10-24T16:41:56.362841Z",
     "iopub.status.idle": "2024-10-24T16:41:56.889661Z",
     "shell.execute_reply": "2024-10-24T16:41:56.888392Z"
    },
    "papermill": {
     "duration": 1.058097,
     "end_time": "2024-10-24T16:41:56.892285",
     "exception": false,
     "start_time": "2024-10-24T16:41:55.834188",
     "status": "completed"
    },
    "tags": []
   },
   "outputs": [
    {
     "name": "stdout",
     "output_type": "stream",
     "text": [
      "Validation Loss: 1.0823, Validation Accuracy: 0.6544\n"
     ]
    }
   ],
   "source": [
    "# Modelin doğrulama setindeki performansı değerlendiriliyor.\n",
    "val_loss, val_accuracy = model.evaluate(val_images, val_labels, verbose=0)\n",
    "print(f'Validation Loss: {val_loss:.4f}, Validation Accuracy: {val_accuracy:.4f}')"
   ]
  },
  {
   "cell_type": "code",
   "execution_count": 8,
   "id": "e47079b2",
   "metadata": {
    "execution": {
     "iopub.execute_input": "2024-10-24T16:41:57.955698Z",
     "iopub.status.busy": "2024-10-24T16:41:57.955235Z",
     "iopub.status.idle": "2024-10-24T16:41:58.522084Z",
     "shell.execute_reply": "2024-10-24T16:41:58.520888Z"
    },
    "papermill": {
     "duration": 1.099089,
     "end_time": "2024-10-24T16:41:58.524465",
     "exception": false,
     "start_time": "2024-10-24T16:41:57.425376",
     "status": "completed"
    },
    "tags": []
   },
   "outputs": [
    {
     "data": {
      "image/png": "[encoded data removed]",
      "text/plain": [
       "<Figure size 640x480 with 1 Axes>"
      ]
     },
     "metadata": {},
     "output_type": "display_data"
    },
    {
     "data": {
      "image/png": "[encoded data removed]",
      "text/plain": [
       "<Figure size 640x480 with 1 Axes>"
      ]
     },
     "metadata": {},
     "output_type": "display_data"
    }
   ],
   "source": [
    "plt.plot(history.history['accuracy'], label='Train Accuracy')\n",
    "plt.plot(history.history['val_accuracy'], label='Validation Accuracy')\n",
    "plt.xlabel('Epochs')\n",
    "plt.ylabel('Accuracy')\n",
    "plt.legend()\n",
    "plt.title('Model Accuracy')\n",
    "plt.show()\n",
    "\n",
    "plt.plot(history.history['loss'], label='Train Loss')\n",
    "plt.plot(history.history['val_loss'], label='Validation Loss')\n",
    "plt.xlabel('Epochs')\n",
    "plt.ylabel('Loss')\n",
    "plt.legend()\n",
    "plt.title('Model Loss')\n",
    "plt.show()"
   ]
  },
  {
   "cell_type": "markdown",
   "id": "8f034ccb",
   "metadata": {
    "papermill": {
     "duration": 0.551663,
     "end_time": "2024-10-24T16:41:59.665137",
     "exception": false,
     "start_time": "2024-10-24T16:41:59.113474",
     "status": "completed"
    },
    "tags": []
   },
   "source": [
    "# 8 Sonuçların Değerlendirilmesi"
   ]
  },
  {
   "cell_type": "code",
   "execution_count": 9,
   "id": "41ff563b",
   "metadata": {
    "execution": {
     "iopub.execute_input": "2024-10-24T16:42:00.732899Z",
     "iopub.status.busy": "2024-10-24T16:42:00.732464Z",
     "iopub.status.idle": "2024-10-24T16:42:01.368960Z",
     "shell.execute_reply": "2024-10-24T16:42:01.367594Z"
    },
    "papermill": {
     "duration": 1.172184,
     "end_time": "2024-10-24T16:42:01.371691",
     "exception": false,
     "start_time": "2024-10-24T16:42:00.199507",
     "status": "completed"
    },
    "tags": []
   },
   "outputs": [
    {
     "name": "stdout",
     "output_type": "stream",
     "text": [
      "\u001b[1m57/57\u001b[0m \u001b[32m━━━━━━━━━━━━━━━━━━━━\u001b[0m\u001b[37m\u001b[0m \u001b[1m0s\u001b[0m 5ms/step\n",
      "              precision    recall  f1-score   support\n",
      "\n",
      "           0       0.63      0.93      0.75       211\n",
      "           1       0.72      0.43      0.54       204\n",
      "           2       0.84      0.47      0.60       195\n",
      "           3       0.74      0.86      0.80       191\n",
      "           4       0.67      0.82      0.73       201\n",
      "           5       0.55      0.40      0.46       179\n",
      "           6       0.64      0.91      0.75       209\n",
      "           7       0.45      0.20      0.28       207\n",
      "           8       0.64      0.84      0.73       203\n",
      "\n",
      "    accuracy                           0.65      1800\n",
      "   macro avg       0.65      0.65      0.63      1800\n",
      "weighted avg       0.65      0.65      0.63      1800\n",
      "\n"
     ]
    }
   ],
   "source": [
    "# Doğrulama seti için modelin yaptığı tahminler alınıyor.\n",
    "val_predictions = model.predict(val_images)\n",
    "# Tahminler ve gerçek etiketler en yüksek değere sahip indeksler alınarak karşılaştırılıyor.\n",
    "val_predictions_classes = np.argmax(val_predictions, axis=1)\n",
    "val_labels_classes = np.argmax(val_labels, axis=1)\n",
    "\n",
    "# Tahminler ve gerçek sonuçlar arasındaki performans istatistikleri basılıyor.\n",
    "print(classification_report(val_labels_classes, val_predictions_classes))\n",
    "\n",
    "# Confusion matrix (karışıklık matrisi) oluşturuluyor.\n",
    "conf_matrix = confusion_matrix(val_labels_classes, val_predictions_classes)\n"
   ]
  },
  {
   "cell_type": "code",
   "execution_count": null,
   "id": "5c3beda1",
   "metadata": {
    "papermill": {
     "duration": 0.582078,
     "end_time": "2024-10-24T16:42:02.482268",
     "exception": false,
     "start_time": "2024-10-24T16:42:01.900190",
     "status": "completed"
    },
    "tags": []
   },
   "outputs": [],
   "source": []
  }
 ],
 "metadata": {
  "kaggle": {
   "accelerator": "none",
   "dataSources": [
    {
     "datasetId": 1165452,
     "sourceId": 2170465,
     "sourceType": "datasetVersion"
    }
   ],
   "dockerImageVersionId": 30786,
   "isGpuEnabled": false,
   "isInternetEnabled": true,
   "language": "python",
   "sourceType": "notebook"
  },
  "kernelspec": {
   "display_name": "Python 3",
   "language": "python",
   "name": "python3"
  },
  "language_info": {
   "codemirror_mode": {
    "name": "ipython",
    "version": 3
   },
   "file_extension": ".py",
   "mimetype": "text/x-python",
   "name": "python",
   "nbconvert_exporter": "python",
   "pygments_lexer": "ipython3",
   "version": "3.10.14"
  },
  "papermill": {
   "default_parameters": {},
   "duration": 905.156894,
   "end_time": "2024-10-24T16:42:05.436609",
   "environment_variables": {},
   "exception": null,
   "input_path": "__notebook__.ipynb",
   "output_path": "__notebook__.ipynb",
   "parameters": {},
   "start_time": "2024-10-24T16:27:00.279715",
   "version": "2.6.0"
  }
 },
 "nbformat": 4,
 "nbformat_minor": 5
}
